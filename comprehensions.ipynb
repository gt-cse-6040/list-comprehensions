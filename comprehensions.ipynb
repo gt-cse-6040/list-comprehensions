{
  "nbformat": 4,
  "nbformat_minor": 0,
  "metadata": {
    "colab": {
      "name": "comprehensions.ipynb",
      "provenance": [],
      "authorship_tag": "ABX9TyOQB3D8rCVMS10Grzs54shf",
      "include_colab_link": true
    },
    "kernelspec": {
      "name": "python3",
      "display_name": "Python 3"
    },
    "language_info": {
      "name": "python"
    }
  },
  "cells": [
    {
      "cell_type": "markdown",
      "metadata": {
        "id": "view-in-github",
        "colab_type": "text"
      },
      "source": [
        "<a href=\"https://colab.research.google.com/github/gt-cse-6040/list-comprehensions/blob/main/comprehensions.ipynb\" target=\"_parent\"><img src=\"https://colab.research.google.com/assets/colab-badge.svg\" alt=\"Open In Colab\"/></a>"
      ]
    },
    {
      "cell_type": "markdown",
      "source": [
        "# Python Comprehensions and You\n",
        "\n",
        "You may have come across some syntax like this in your Python experience.\n",
        "\n",
        "```new_list = [2*x for x in some_list if x > 0]```\n",
        "\n",
        "This is a comprehension, and they are used to create iterable Python objects from other iterable Python objects. You can generate the same result using loops, so they are entirely optional. However, comprehension syntax is widely used, so it's a good thing to know for that reason alone. (There are other advantages as well)\n"
      ],
      "metadata": {
        "id": "jqIxeMwRvq8q"
      }
    },
    {
      "cell_type": "markdown",
      "source": [
        "## General guidelines\n",
        "\n",
        "You may consider using a comprehension when you need to generate an iterable collection that is based on another iterable collection. Where comprehensions shine is if you need to *filter* the values or *apply a function* to each value (or any combination of the two).\n",
        "\n",
        "**You should never use comprehensions in the following cases:**\n",
        "- To make a copy of a collection. All Python collection objects have `.copy()` methods, and the `deepcopy` function in the `copy` module should be used for creating recursive copies.\n",
        "- To apply external logic beyond creating a new object. Comprehensions are just a convenient way to create new objects.\n",
        "\n",
        "## Types of comprehensions\n",
        "\n",
        "Wrapping your comprehension with different brackets will give you different data types.\n",
        "- `[]` - list\n",
        "- `{}` - set or dictionary\n",
        "  - `{key: value for key, value in ...}` -> dictionary\n",
        "  - `{value for value in ...}` -> set\n",
        "- `()` - generator\n",
        "  - A `generator` object is something that you can iterate over but it does not have any stored values itself. They are calculated \"on the fly\". These are useful but another topic in and of themselves and will not be expounded upon here."
      ],
      "metadata": {
        "id": "00ByKyYozDjs"
      }
    },
    {
      "cell_type": "markdown",
      "source": [
        "## Basic Example - List comprehension\n",
        "\n",
        "`somelist` is a list which we will use in this comprehension example."
      ],
      "metadata": {
        "id": "HGO-kkvlxsht"
      }
    },
    {
      "cell_type": "code",
      "execution_count": 2,
      "metadata": {
        "id": "TIBUiT0Wvpq3"
      },
      "outputs": [],
      "source": [
        "some_list = [2, 4, -6, 7, 1, -3, 4, 5]"
      ]
    },
    {
      "cell_type": "markdown",
      "source": [
        "Now let's say that we need a new list that contains two times each value in `some_list` _only_ if that value is more than zero. First we will do it using a `for` loop."
      ],
      "metadata": {
        "id": "zT9U0c6hykVH"
      }
    },
    {
      "cell_type": "code",
      "source": [
        "new_list = []\n",
        "for x in some_list:\n",
        "  if x > 0:\n",
        "    new_list.append(2*x)\n",
        "print(new_list)"
      ],
      "metadata": {
        "colab": {
          "base_uri": "https://localhost:8080/"
        },
        "id": "cPJF1yL-0MXZ",
        "outputId": "83c110ca-7a28-455a-9da8-1fcc255150e6"
      },
      "execution_count": 3,
      "outputs": [
        {
          "output_type": "stream",
          "name": "stdout",
          "text": [
            "[4, 8, 14, 2, 8, 10]\n"
          ]
        }
      ]
    },
    {
      "cell_type": "markdown",
      "source": [
        "There are 3 important pieces here. The iteration (yellow), the condition (blue) and the value (green). The rest of the code initializes an empty list `new_list` and appends to it.\n",
        "\n",
        "![image.png](data:image/png;base64,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)"
      ],
      "metadata": {
        "id": "0vU1U6gj0_Eo"
      }
    },
    {
      "cell_type": "code",
      "source": [
        "new_list = [2*x for x in some_list if x > 0]\n",
        "print(new_list)"
      ],
      "metadata": {
        "colab": {
          "base_uri": "https://localhost:8080/"
        },
        "id": "cdFMraQQ1xEK",
        "outputId": "5d716559-04da-4791-85fb-81ab61096cd5"
      },
      "execution_count": 4,
      "outputs": [
        {
          "output_type": "stream",
          "name": "stdout",
          "text": [
            "[4, 8, 14, 2, 8, 10]\n"
          ]
        }
      ]
    },
    {
      "cell_type": "markdown",
      "source": [
        "The comprehension gives the same result by placing the value, iteration, and condition inside of square brackets.\n",
        "\n",
        "![image.png](data:image/png;base64,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)\n",
        "\n",
        "Let's wrap this in a function so that we can easily use it later."
      ],
      "metadata": {
        "id": "Z-cbYANC26jZ"
      }
    },
    {
      "cell_type": "code",
      "source": [
        "def twice_if_positive(some_list):\n",
        "  return [2*x for x in some_list if x > 0]"
      ],
      "metadata": {
        "id": "BH27Ttvz5rfh"
      },
      "execution_count": 5,
      "outputs": []
    },
    {
      "cell_type": "markdown",
      "source": [
        "## Nested Data\n",
        "\n",
        "You may find that you need to create iterables based on nested data structures. Comprehensions can help! The syntax also hints at what your end result will look like. This helps people reading your code in the future understand easier (You will often be this person!) Below we will define `some_nested_list` which will be used in the next few examples."
      ],
      "metadata": {
        "id": "biN9HFK13XSu"
      }
    },
    {
      "cell_type": "code",
      "source": [
        "some_nested_list = [[2, 6, -10],\n",
        "                    [-4, 2, 1, 5],\n",
        "                    [-3, -4]]"
      ],
      "metadata": {
        "id": "ip85_xxT5T8E"
      },
      "execution_count": 6,
      "outputs": []
    },
    {
      "cell_type": "markdown",
      "source": [
        "### Nested list flattening\n",
        "Suppose we need to get all the values out of this nested list in a row-wise format (each inner list is interpreted as a \"row\"). We could use a nested `for` loop."
      ],
      "metadata": {
        "id": "WO91moQ05EVz"
      }
    },
    {
      "cell_type": "code",
      "source": [
        "new_list = []\n",
        "for row in some_nested_list:\n",
        "  for x in row:\n",
        "    new_list.append(x)\n",
        "print(new_list)"
      ],
      "metadata": {
        "colab": {
          "base_uri": "https://localhost:8080/"
        },
        "id": "aQ40FvRx3MN5",
        "outputId": "0aebb9e2-8d86-4f1e-ab32-ab68a3477709"
      },
      "execution_count": 7,
      "outputs": [
        {
          "output_type": "stream",
          "name": "stdout",
          "text": [
            "[2, 6, -10, -4, 2, 1, 5, -3, -4]\n"
          ]
        }
      ]
    },
    {
      "cell_type": "markdown",
      "source": [
        "Now as a comprehension..."
      ],
      "metadata": {
        "id": "0NMOuCH36vN_"
      }
    },
    {
      "cell_type": "code",
      "source": [
        "new_list = [x for row in some_nested_list for x in row]\n",
        "print(new_list)"
      ],
      "metadata": {
        "colab": {
          "base_uri": "https://localhost:8080/"
        },
        "id": "iSaNGBdK6yNb",
        "outputId": "7ed961bf-5e3b-4c06-95a8-3677d3113f27"
      },
      "execution_count": 8,
      "outputs": [
        {
          "output_type": "stream",
          "name": "stdout",
          "text": [
            "[2, 6, -10, -4, 2, 1, 5, -3, -4]\n"
          ]
        }
      ]
    },
    {
      "cell_type": "markdown",
      "source": [
        "Notice how we just put the two iteration definitions one after the other."
      ],
      "metadata": {
        "id": "wFcTauBa7FvW"
      }
    },
    {
      "cell_type": "markdown",
      "source": [
        "### Creating nested data\n",
        "\n",
        "Suppose that we want to apply the `twice_if_positive` logic to each row of `some_nested_list` and return the result in the same nested structure. Here's how it looks in a `for` loop."
      ],
      "metadata": {
        "id": "s28baRWy7Uqp"
      }
    },
    {
      "cell_type": "code",
      "source": [
        "new_list = []\n",
        "for row in some_nested_list:\n",
        "  new_inner_list = []\n",
        "  for x in row:\n",
        "    if x > 0:\n",
        "      new_inner_list.append(2*x)\n",
        "  new_list.append(new_inner_list)\n",
        "print(new_list)"
      ],
      "metadata": {
        "colab": {
          "base_uri": "https://localhost:8080/"
        },
        "id": "BKpCHT3_7TX_",
        "outputId": "d1a5c8a0-6764-48c7-da60-3e33d6a537f7"
      },
      "execution_count": 9,
      "outputs": [
        {
          "output_type": "stream",
          "name": "stdout",
          "text": [
            "[[4, 12], [4, 2, 10], []]\n"
          ]
        }
      ]
    },
    {
      "cell_type": "markdown",
      "source": [
        "There's a lot going on in that snippet. If you're looking at this for the first time you have to understand the structure of `some_nested_list`, understand the purpose of `new_list` and `new_inner_list`, parse the iteration/condition logic, and visually note the indentation. The indentation is key, because if it's off you get a totally different result (see below)."
      ],
      "metadata": {
        "id": "4XSrP-_D8eYp"
      }
    },
    {
      "cell_type": "code",
      "source": [
        "new_list = []\n",
        "for row in some_nested_list:\n",
        "  new_inner_list = []\n",
        "  for x in row:\n",
        "    if x > 0:\n",
        "      new_inner_list.append(2*x)\n",
        "    new_list.append(new_inner_list) # indented one more level than the example above\n",
        "print(new_list)"
      ],
      "metadata": {
        "colab": {
          "base_uri": "https://localhost:8080/"
        },
        "id": "5Uome8M7BNvP",
        "outputId": "160f5050-7cad-4548-cebf-7b33d68f4355"
      },
      "execution_count": 10,
      "outputs": [
        {
          "output_type": "stream",
          "name": "stdout",
          "text": [
            "[[4, 12], [4, 12], [4, 12], [4, 2, 10], [4, 2, 10], [4, 2, 10], [4, 2, 10], [], []]\n"
          ]
        }
      ]
    },
    {
      "cell_type": "markdown",
      "source": [
        "Now let's take a look at the comprehension version..."
      ],
      "metadata": {
        "id": "z01Vetz4BitE"
      }
    },
    {
      "cell_type": "code",
      "source": [
        "new_list = [[2*x for x in row if x > 0] for row in some_nested_list]\n",
        "print(new_list)"
      ],
      "metadata": {
        "colab": {
          "base_uri": "https://localhost:8080/"
        },
        "id": "jRgfiFNn8uGQ",
        "outputId": "86816f61-2563-43c5-fce6-408fc21d4cb4"
      },
      "execution_count": 11,
      "outputs": [
        {
          "output_type": "stream",
          "name": "stdout",
          "text": [
            "[[4, 12], [4, 2, 10], []]\n"
          ]
        }
      ]
    },
    {
      "cell_type": "markdown",
      "source": [
        "The comprehension is a lot less code. For each `row` in `some_nested_list` you get a list comprehension structured like that in the first example. \n",
        "\n",
        "This syntax is simpler to read as the square brackets clearly indicate the structure of the result and there are no internal temporary variables to understand. Indentation is also not a concern since the logic is nested based on the brackets."
      ],
      "metadata": {
        "id": "xI5mly7r9r5p"
      }
    },
    {
      "cell_type": "markdown",
      "source": [
        "### Making a dictionary from the nested lists\n",
        "\n",
        "Suppose we want to make a dictionary mapping each \"row index\" to the result of the `twice_if_positive` logic applied to that row. Here's how we would do so with `for` loops. \n",
        "\n",
        "Note: This example makes use of the `enumerate` function which gives both the index and the value when you iterate over it."
      ],
      "metadata": {
        "id": "au8Q9O1nDsPM"
      }
    },
    {
      "cell_type": "code",
      "source": [
        "new_dict = {}\n",
        "for i, row in enumerate(some_nested_list):\n",
        "  new_inner_list = []\n",
        "  for x in row:\n",
        "    if x > 0:\n",
        "      new_inner_list.append(2*x)\n",
        "  new_dict[i] = new_inner_list\n",
        "print(new_dict)"
      ],
      "metadata": {
        "colab": {
          "base_uri": "https://localhost:8080/"
        },
        "id": "z5VTVtcsCAaQ",
        "outputId": "e2a993c8-db3b-402a-cb5c-366fbb3f7508"
      },
      "execution_count": 12,
      "outputs": [
        {
          "output_type": "stream",
          "name": "stdout",
          "text": [
            "{0: [4, 12], 1: [4, 2, 10], 2: []}\n"
          ]
        }
      ]
    },
    {
      "cell_type": "markdown",
      "source": [
        "Now let's try the comprehension..."
      ],
      "metadata": {
        "id": "iW45LpmgF_K8"
      }
    },
    {
      "cell_type": "code",
      "source": [
        "new_dict = {i:[2*x for x in row if x > 0] for i, row in enumerate(some_nested_list)}\n",
        "print(new_dict)"
      ],
      "metadata": {
        "colab": {
          "base_uri": "https://localhost:8080/"
        },
        "id": "clx2N_UzGCUt",
        "outputId": "54ee1275-f9b4-4e89-ac22-4bfb349bb11b"
      },
      "execution_count": 13,
      "outputs": [
        {
          "output_type": "stream",
          "name": "stdout",
          "text": [
            "{0: [4, 12], 1: [4, 2, 10], 2: []}\n"
          ]
        }
      ]
    },
    {
      "cell_type": "markdown",
      "source": [
        "## Encapsulating logic within functions\n",
        "\n",
        "In general, it is good practice to use functions and function calls to encapsulate your logic. It makes your code easier to debug and easier to read.\n",
        "\n",
        "The comprehensions in the nested examples were easier to understand than the `for` loop versions, but there still was a lot of logic to unpack inside the inner comprehension. We can substitute in a call to `twice_is_positive`."
      ],
      "metadata": {
        "id": "ObckW_XHGu8x"
      }
    },
    {
      "cell_type": "code",
      "source": [
        "new_list = [twice_if_positive(row) for row in some_nested_list]\n",
        "print(new_list)\n",
        "new_dict = {i: twice_if_positive(row) for i, row in enumerate(some_nested_list)}\n",
        "print(new_dict)"
      ],
      "metadata": {
        "colab": {
          "base_uri": "https://localhost:8080/"
        },
        "id": "OYys3l7SILDY",
        "outputId": "2d21ad5e-bb98-47f2-8467-5934d7cdeff9"
      },
      "execution_count": 14,
      "outputs": [
        {
          "output_type": "stream",
          "name": "stdout",
          "text": [
            "[[4, 12], [4, 2, 10], []]\n",
            "{0: [4, 12], 1: [4, 2, 10], 2: []}\n"
          ]
        }
      ]
    },
    {
      "cell_type": "markdown",
      "source": [
        "There is a slight tradeoff here. We now cannot infer the final structure at a glance. We have to understand that `twice_if_positive` returns a list. This example was fairly simple, but when dealing with data structures with even more layers the advantages of encapsulation will outweigh the tradeoff in structure. "
      ],
      "metadata": {
        "id": "ZD2XO_s3ImA0"
      }
    },
    {
      "cell_type": "markdown",
      "source": [
        "### More complicated example\n",
        "\n",
        "Say we have a dictionary of nested lists. The lists have the structure of `some_nested_list` and the keys are arbitrary strings."
      ],
      "metadata": {
        "id": "CnFpWPejMXsb"
      }
    },
    {
      "cell_type": "code",
      "source": [
        "messy_dict = {\n",
        "    'key_0': [[40, 10, -1], [0, -3], [-5, 14]],\n",
        "    'key_1': [[4, 5, 6],[10, -3]],\n",
        "    'key_2': [[44, -1, 5], [-5], [-1, 0]]\n",
        "}"
      ],
      "metadata": {
        "id": "hW2hlezXNHFS"
      },
      "execution_count": 15,
      "outputs": []
    },
    {
      "cell_type": "markdown",
      "source": [
        "Now suppose we want to apply our same logic which we used for `new_dict` to each of the values and return the result using capitalized versions of the original keys."
      ],
      "metadata": {
        "id": "HsyGnUGAN2Nu"
      }
    },
    {
      "cell_type": "code",
      "source": [
        "{k.upper(): {i: [2*x for x in row if x > 0] for i, row in enumerate(v)} for k, v in messy_dict.items()}"
      ],
      "metadata": {
        "colab": {
          "base_uri": "https://localhost:8080/"
        },
        "id": "ImQhVQTpONn5",
        "outputId": "eff5c7b8-1d25-41c9-ab43-5e532748c82c"
      },
      "execution_count": 16,
      "outputs": [
        {
          "output_type": "execute_result",
          "data": {
            "text/plain": [
              "{'KEY_0': {0: [80, 20], 1: [], 2: [28]},\n",
              " 'KEY_1': {0: [8, 10, 12], 1: [20]},\n",
              " 'KEY_2': {0: [88, 10], 1: [], 2: []}}"
            ]
          },
          "metadata": {},
          "execution_count": 16
        }
      ]
    },
    {
      "cell_type": "markdown",
      "source": [
        "**What a mess!** Comprehensions like this one make it seem like using them at all is a waste of time and generates unreadable spaghetti. Let's clean it up with some encapsulation."
      ],
      "metadata": {
        "id": "FB6DlHF2O6Zm"
      }
    },
    {
      "cell_type": "code",
      "source": [
        "# Third Layer\n",
        "def twice_if_positive(some_list): # just so you don't have to scroll\n",
        "  return [2*x for x in some_list if x > 0]\n",
        "\n",
        "# Second Layer\n",
        "def dict_tip(some_nested_list):\n",
        "  return {i: twice_if_positive(row) for i, row in enumerate(some_nested_list)}\n",
        "\n",
        "# Top Layer\n",
        "def process_messy(messy_dict):\n",
        "  return {k.upper(): dict_tip(v) for k, v in messy_dict.items()}\n",
        "  \n",
        "process_messy(messy_dict)"
      ],
      "metadata": {
        "colab": {
          "base_uri": "https://localhost:8080/"
        },
        "id": "b6hd6QROOkqh",
        "outputId": "8f8e2189-053c-45a1-98b8-e32121b2b3b3"
      },
      "execution_count": 17,
      "outputs": [
        {
          "output_type": "execute_result",
          "data": {
            "text/plain": [
              "{'KEY_0': {0: [80, 20], 1: [], 2: [28]},\n",
              " 'KEY_1': {0: [8, 10, 12], 1: [20]},\n",
              " 'KEY_2': {0: [88, 10], 1: [], 2: []}}"
            ]
          },
          "metadata": {},
          "execution_count": 17
        }
      ]
    },
    {
      "cell_type": "markdown",
      "source": [
        "Now we have the 3 layers separated and encapsulated. We can understand what each layer does and easily see how they work together. Another advantage of this is the inevitable code maintenance that you will have to do down the road.\n",
        "\n",
        "Say that you wrote the code above 6 months ago and then moved on to bigger and better things. But a new manager took over and now there's a requirement that this result cannot contain empty lists in the middle layer. With the spaghetti version, you have to parse out where this middle layer is getting built to make the change. However, in the encapsulated implementation you can just change the `dict_tip` function which is much simpler."
      ],
      "metadata": {
        "id": "MPdB7wLcR1MZ"
      }
    },
    {
      "cell_type": "code",
      "source": [
        "def dict_tip(some_nested_list):\n",
        "  my_dict = {i: twice_if_positive(row) for i, row in enumerate(some_nested_list)}\n",
        "  return {k:v for k, v in my_dict.items() if len(v) > 0}\n",
        "\n",
        "process_messy(messy_dict)"
      ],
      "metadata": {
        "colab": {
          "base_uri": "https://localhost:8080/"
        },
        "id": "o0BNYy6kRFY2",
        "outputId": "4121960a-33d2-45a4-dc54-4e2df41c792c"
      },
      "execution_count": 19,
      "outputs": [
        {
          "output_type": "execute_result",
          "data": {
            "text/plain": [
              "{'KEY_0': {0: [80, 20], 2: [28]},\n",
              " 'KEY_1': {0: [8, 10, 12], 1: [20]},\n",
              " 'KEY_2': {0: [88, 10]}}"
            ]
          },
          "metadata": {},
          "execution_count": 19
        }
      ]
    },
    {
      "cell_type": "markdown",
      "source": [
        "# That's all folks!\n",
        "Hopefully this takes some of the mystery out of using and parsing list comprehensions."
      ],
      "metadata": {
        "id": "q9aAwPs2QZPL"
      }
    }
  ]
}